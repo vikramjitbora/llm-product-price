{
 "cells": [
  {
   "cell_type": "markdown",
   "id": "6b8bfb23-5987-4e4d-bfdb-abd1de21071a",
   "metadata": {},
   "source": [
    "# Data Curation\n",
    "\n",
    "Today we'll begin our scrubbing and curating our dataset by focusing on a subset of the data: Home Appliances.\n",
    "\n",
    "The dataset is here:  \n",
    "https://huggingface.co/datasets/McAuley-Lab/Amazon-Reviews-2023\n",
    "\n",
    "And the folder with all the product datasets is here:  \n",
    "https://huggingface.co/datasets/McAuley-Lab/Amazon-Reviews-2023/tree/main/raw/meta_categories"
   ]
  },
  {
   "cell_type": "markdown",
   "id": "810f590f-28b9-4f4a-8634-3636cfeed4eb",
   "metadata": {},
   "source": [
    "## Imports and environment setup"
   ]
  },
  {
   "cell_type": "code",
   "execution_count": 13,
   "id": "1b51a340-971f-4a9a-a52c-1cadbecc4df6",
   "metadata": {},
   "outputs": [],
   "source": [
    "# imports\n",
    "\n",
    "import os\n",
    "from dotenv import load_dotenv\n",
    "from huggingface_hub import login\n",
    "from datasets import load_dataset, Dataset, DatasetDict\n",
    "import matplotlib.pyplot as plt\n",
    "\n",
    "from utils.items import Item"
   ]
  },
  {
   "cell_type": "code",
   "execution_count": 2,
   "id": "eaf845df-ea7f-411e-9bee-fb12cf5a0bef",
   "metadata": {},
   "outputs": [],
   "source": [
    "# environment\n",
    "\n",
    "load_dotenv(override=True)\n",
    "os.environ['OPENAI_API_KEY'] = os.getenv('OPENAI_API_KEY')\n",
    "os.environ['ANTHROPIC_API_KEY'] = os.getenv('ANTHROPIC_API_KEY')\n",
    "os.environ['HF_TOKEN'] = os.getenv('HF_TOKEN')"
   ]
  },
  {
   "cell_type": "code",
   "execution_count": 3,
   "id": "e7e2a949-5acd-4d7a-8c30-6c207205dc8d",
   "metadata": {},
   "outputs": [
    {
     "name": "stderr",
     "output_type": "stream",
     "text": [
      "Note: Environment variable`HF_TOKEN` is set and is the current active token independently from the token you've just configured.\n"
     ]
    }
   ],
   "source": [
    "# Log in to HuggingFace\n",
    "\n",
    "hf_token = os.environ['HF_TOKEN']\n",
    "login(hf_token, add_to_git_credential=True)"
   ]
  },
  {
   "cell_type": "markdown",
   "id": "a6a43d73-ca4f-440f-8b0a-1d5fd5f115e4",
   "metadata": {},
   "source": [
    "## Load data"
   ]
  },
  {
   "cell_type": "markdown",
   "id": "561a99bf-8580-4e7c-a1fb-7e591929c6ed",
   "metadata": {},
   "source": [
    "Instead of loading the entire data, we will load a subset and perform our experiments on it before scaling it up to the entire dataset\n"
   ]
  },
  {
   "cell_type": "code",
   "execution_count": 4,
   "id": "a6cf7969-2206-4c9d-9c92-c17272c4ffd6",
   "metadata": {},
   "outputs": [],
   "source": [
    "\n",
    "dataset = load_dataset(\n",
    "    \"McAuley-Lab/Amazon-Reviews-2023\",  # dataset identifier (from Hugging Face Hub)\n",
    "    f\"raw_meta_Appliances\",             # specific subset of the dataset\n",
    "    split=\"full\",                       # which split of the dataset we want (train/test/full.)\n",
    "    trust_remote_code=True             \n",
    ")\n"
   ]
  },
  {
   "cell_type": "code",
   "execution_count": 5,
   "id": "95936269-b085-4bc1-88fb-6a995e83b068",
   "metadata": {},
   "outputs": [
    {
     "data": {
      "text/plain": [
       "Dataset({\n",
       "    features: ['main_category', 'title', 'average_rating', 'rating_number', 'features', 'description', 'price', 'images', 'videos', 'store', 'categories', 'details', 'parent_asin', 'bought_together', 'subtitle', 'author'],\n",
       "    num_rows: 94327\n",
       "})"
      ]
     },
     "execution_count": 5,
     "metadata": {},
     "output_type": "execute_result"
    }
   ],
   "source": [
    "dataset"
   ]
  },
  {
   "cell_type": "markdown",
   "id": "5e5e246f-965b-4205-8160-9da5b71d5067",
   "metadata": {},
   "source": [
    "## EDA"
   ]
  },
  {
   "cell_type": "code",
   "execution_count": 6,
   "id": "ed09bfc6-08d2-4712-b1b9-ac4e409ea68b",
   "metadata": {},
   "outputs": [
    {
     "name": "stdout",
     "output_type": "stream",
     "text": [
      "Number of Appliances: 94,327\n"
     ]
    }
   ],
   "source": [
    "print(f\"Number of Appliances: {len(dataset):,}\")"
   ]
  },
  {
   "cell_type": "markdown",
   "id": "01c7b38a-0f4d-4135-b3f3-76eeae5388f4",
   "metadata": {},
   "source": [
    "Investigating a single datapoint from the dataset. Each point in the dataset is a dictionary"
   ]
  },
  {
   "cell_type": "code",
   "execution_count": 7,
   "id": "a61a2403-9da7-417e-a755-5ebced875ea3",
   "metadata": {},
   "outputs": [
    {
     "data": {
      "text/plain": [
       "dict_keys(['main_category', 'title', 'average_rating', 'rating_number', 'features', 'description', 'price', 'images', 'videos', 'store', 'categories', 'details', 'parent_asin', 'bought_together', 'subtitle', 'author'])"
      ]
     },
     "execution_count": 7,
     "metadata": {},
     "output_type": "execute_result"
    }
   ],
   "source": [
    "dataset[0].keys()"
   ]
  },
  {
   "cell_type": "code",
   "execution_count": 8,
   "id": "c67ade08-6ce8-4cdc-b502-cc8b9fc933ff",
   "metadata": {},
   "outputs": [
    {
     "name": "stdout",
     "output_type": "stream",
     "text": [
      "Title: 285976 Drum Baffle (11.3\"x2.4\"x2.6\") fit for Whirl-pool Washer-Replacement 8182233,3Pack \n",
      "\n",
      "Type: <class 'str'>\n",
      "\n",
      "\n",
      "Description: ['This baffle (part number 285976) is for washers.', 'Fit Model', 'GHW9400PT4, GHW9400PW0, GHW9400PW1, GHW9400PW2, GHW9400PW3, GHW9400PW4, GHW9400SU0, GHW9460PL0, GHW9460PL1, GHW9460PL2, GHW9460PL3, GHW9460PL4, GHW9460PW0, GHW9460PW1, GHW9460PW2, GHW9460PW3, GHW9460PW4, KHWS01PMT3, KHWS01PWH0, KHWS02RMT0, KHWS02RMT1, KHWS02RMT2,KHWS02RMT3, KHWS02RWH0, KHWS02RWH1, KHWS02RWH2, KHWS02RWH3, KHWV01RSS0, WFW9200SQ00, WFW9200SQ01, WFW9200SQ02, WFW9300VU02, WFW9400SB00,WFW9400SB01, WFW9400ST00, WFW9400ST01, WFW9400SU00, WFW9400SU01, WFW9400SW00, WFW9400SW01, WFW9400SZ00, WFW9400SZ01, WFW9400VE01, WFW9500TC00, When the washer Unusual noises, not washing properly, you can replace this part. This part is also known as a washing machine drum baffle, tub baffle, drum vane, tub vane.']\n",
      "\n",
      "Type: <class 'list'>\n",
      "\n",
      "\n",
      "Features: ['285976 Baffle Front Load Washer Drum', 'Replaces Numbers:8181669, 8182225, 8182233, WP8182233, 285976, AP3769371, 1058883, 8181669, 8182225, AH970109, EA970109, PS970109.', 'Size:11.3\"\\xa0x\\xa02.4\"\\xa0x\\xa02.6\".Note: Before installing the product, please disconnect the power supply and wear work gloves to protect your hands.', 'The baffle will prevent buttons, zippers, etc. from getting stuck on the drum of the washing machine to avoid damage to the clothes.', \"For any reason you're not completely satisfied, you can ask for a replacement or full refund. If you are not sure whether this replacement part correctly fit your appliance, please feel free to contact us or ask a question through Amazon. Compare with similar items\"]\n",
      "\n",
      "Type: <class 'list'>\n",
      "\n",
      "\n",
      "Details: {\"Manufacturer\": \"Appliancemate\", \"Part Number\": \"B-285976 Baffle\", \"Item Weight\": \"10.4 ounces\", \"Product Dimensions\": \"11.3 x 2.4 x 2.6 inches\", \"Item model number\": \"B-285976 Baffle\", \"Batteries Required?\": \"No\", \"Best Sellers Rank\": {\"Tools & Home Improvement\": 171388, \"Dryer Replacement Parts\": 2658}, \"Date First Available\": \"November 7, 2019\"}\n",
      "\n",
      "Type: <class 'str'>\n",
      "\n",
      "\n",
      "Price: 13.21, \n",
      "\n",
      "Type: <class 'str'>\n",
      "\n",
      "\n"
     ]
    }
   ],
   "source": [
    "import random\n",
    "\n",
    "datapoint = dataset[random.randint(0,len(dataset)-1)]\n",
    "\n",
    "print(f'Title: {datapoint[\"title\"]} \\n\\nType: {type(datapoint[\"title\"])}\\n\\n')\n",
    "print(f'Description: {datapoint[\"description\"]}\\n\\nType: {type(datapoint[\"description\"])}\\n\\n')\n",
    "print(f'Features: {datapoint[\"features\"]}\\n\\nType: {type(datapoint[\"features\"])}\\n\\n')\n",
    "print(f'Details: {datapoint[\"details\"]}\\n\\nType: {type(datapoint[\"details\"])}\\n\\n')\n",
    "print(f'Price: {datapoint[\"price\"]}, \\n\\nType: {type(datapoint[\"price\"])}\\n\\n')"
   ]
  },
  {
   "cell_type": "markdown",
   "id": "bdba9790-a174-41cb-ae30-3a895c6a7ea7",
   "metadata": {},
   "source": [
    "Lets check how many have datapoints have the price feature. This is to check the distribution of the data. "
   ]
  },
  {
   "cell_type": "code",
   "execution_count": 9,
   "id": "b3246215-99b9-46ca-8b2b-39f6a16fd1c0",
   "metadata": {},
   "outputs": [
    {
     "name": "stdout",
     "output_type": "stream",
     "text": [
      "There are 46,726 datapoints with prices which is 49.54% of the data\n"
     ]
    }
   ],
   "source": [
    "count = 0\n",
    "for datapoint in dataset:\n",
    "    try:\n",
    "        price = float(datapoint['price'])\n",
    "        if price > 0:\n",
    "            count += 1\n",
    "    except ValueError:\n",
    "        pass\n",
    "\n",
    "print(f'There are {count:,} datapoints with prices which is {(count/len(dataset))*100:,.2f}% of the data')"
   ]
  },
  {
   "cell_type": "markdown",
   "id": "ab3f6db4-203d-475a-946a-4183eb221276",
   "metadata": {},
   "source": [
    "For the items with prices, let us understand the distribution of the data for the prices. Additionally, we will also try to understand the distribution of the text data based on its length of contents which includes the title, description, features and details of the product. "
   ]
  },
  {
   "cell_type": "code",
   "execution_count": 10,
   "id": "c39af0cd-46c2-4813-8173-f0b3d421e1a7",
   "metadata": {},
   "outputs": [],
   "source": [
    "prices = []\n",
    "lengths = []\n",
    "for datapoint in dataset:\n",
    "    try:\n",
    "        price = float(datapoint['price'])\n",
    "        if price > 0:\n",
    "            prices.append(price)\n",
    "            contents = datapoint[\"title\"] + str(datapoint[\"description\"]) + str(datapoint[\"features\"]) + str(datapoint[\"details\"])\n",
    "            lengths.append(len(contents))\n",
    "    except ValueError:\n",
    "        pass"
   ]
  },
  {
   "cell_type": "code",
   "execution_count": 11,
   "id": "22b2749c-2f39-44cc-9212-9c3f56a4e08a",
   "metadata": {},
   "outputs": [
    {
     "data": {
      "image/png": "[encoded data removed]",
      "text/plain": [
       "<Figure size 1500x600 with 1 Axes>"
      ]
     },
     "metadata": {},
     "output_type": "display_data"
    }
   ],
   "source": [
    "# Plot the distribution of lengths\n",
    "\n",
    "plt.figure(figsize=(15, 6))\n",
    "plt.title(f\"Lengths: Avg {sum(lengths)/len(lengths):,.0f} and highest {max(lengths):,}\\n\")\n",
    "plt.xlabel('Length (chars)')\n",
    "plt.ylabel('Count')\n",
    "plt.hist(lengths, rwidth=0.7, color=\"lightblue\", bins=range(0, 10000, 100))\n",
    "plt.show()"
   ]
  },
  {
   "cell_type": "code",
   "execution_count": 12,
   "id": "ce9a4f02-9570-473c-9e49-5c4ad914eba2",
   "metadata": {},
   "outputs": [
    {
     "data": {
      "image/png": "[encoded data removed]",
      "text/plain": [
       "<Figure size 1500x600 with 1 Axes>"
      ]
     },
     "metadata": {},
     "output_type": "display_data"
    }
   ],
   "source": [
    "# Plot the distribution of prices\n",
    "\n",
    "plt.figure(figsize=(15, 6))\n",
    "plt.title(f\"Prices: Avg {sum(prices)/len(prices):,.2f} and highest {max(prices):,}\\n\")\n",
    "plt.xlabel('Price ($)')\n",
    "plt.ylabel('Count')\n",
    "plt.hist(prices, rwidth=0.7, color=\"orange\", bins=range(0, 1000, 10))\n",
    "plt.show()"
   ]
  },
  {
   "cell_type": "code",
   "execution_count": 32,
   "id": "e057235a-1654-47eb-ae41-8c925f6ac213",
   "metadata": {},
   "outputs": [],
   "source": [
    "items = []\n",
    "\n",
    "for datapoint in dataset:\n",
    "    try:\n",
    "        price = float(datapoint['price'])\n",
    "        if price > 0:\n",
    "            item = Item(datapoint, price)\n",
    "            if item.include:\n",
    "                items.append(item)\n",
    "    except ValueError:\n",
    "        pass\n"
   ]
  },
  {
   "cell_type": "code",
   "execution_count": 38,
   "id": "f21eb1d6-2b9e-4f01-9038-119815a556a4",
   "metadata": {},
   "outputs": [
    {
     "name": "stdout",
     "output_type": "stream",
     "text": [
      "There are 46726 datapoints with prices out of which 29191 items which has enough useful information that can be used for training \n"
     ]
    }
   ],
   "source": [
    "print(f'There are {len(prices)} datapoints with prices out of which {len(items)} items which has enough useful information that can be used for training ')"
   ]
  },
  {
   "cell_type": "code",
   "execution_count": 39,
   "id": "0551352f-4829-4d9e-a980-b8ca7cdfa21f",
   "metadata": {},
   "outputs": [
    {
     "data": {
      "text/plain": [
       "<WD12X10327 Rack Roller and stud assembly Kit (4 Pack) by AMI PARTS Replaces AP4980629 PS3486910 1811003 = $8.99>"
      ]
     },
     "execution_count": 39,
     "metadata": {},
     "output_type": "execute_result"
    }
   ],
   "source": [
    "items[0]"
   ]
  },
  {
   "cell_type": "code",
   "execution_count": null,
   "id": "c0ade5ec-4621-470f-ad43-011474b08d7b",
   "metadata": {},
   "outputs": [],
   "source": []
  }
 ],
 "metadata": {
  "kernelspec": {
   "display_name": "Python 3 (ipykernel)",
   "language": "python",
   "name": "python3"
  },
  "language_info": {
   "codemirror_mode": {
    "name": "ipython",
    "version": 3
   },
   "file_extension": ".py",
   "mimetype": "text/x-python",
   "name": "python",
   "nbconvert_exporter": "python",
   "pygments_lexer": "ipython3",
   "version": "3.11.12"
  }
 },
 "nbformat": 4,
 "nbformat_minor": 5
}
